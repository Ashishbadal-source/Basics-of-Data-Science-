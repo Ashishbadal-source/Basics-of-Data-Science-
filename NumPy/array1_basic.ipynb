{
 "cells": [
  {
   "cell_type": "code",
   "execution_count": null,
   "id": "8c04f12a",
   "metadata": {},
   "outputs": [
    {
     "data": {
      "text/plain": [
       "array([[18, 19],\n",
       "       [22, 23]])"
      ]
     },
     "execution_count": 63,
     "metadata": {},
     "output_type": "execute_result"
    }
   ],
   "source": [
    "import numpy as np\n",
    "arr1 = np.array([1,2,3,4,5])\n",
    "arr1\n",
    "type(arr1)\n",
    "\n",
    "arr2 = np.array([[1,2,3,4,5],[5,4,3,2,1],[1,2,3,4,5]])\n",
    "arr2\n",
    "\n",
    "arr3 = np.zeros((2,3))\n",
    "arr3\n",
    "\n",
    "arr4 = np.ones((4,4))\n",
    "arr4\n",
    "\n",
    "arr5 = np.identity(5)\n",
    "arr5\n",
    "\n",
    "arr6 = np.arange(10)\n",
    "arr6\n",
    "\n",
    "arr7 = np.arange(5,20,2)\n",
    "arr7\n",
    "\n",
    "arr8 = np.linspace(10,30,6)\n",
    "arr8\n",
    "\n",
    "arr9 = arr8.copy()\n",
    "arr9\n",
    "\n",
    "arr10 = np.array([[[1,2,3],[4,5,6]],[[7,8,9],[10,11,12]]])\n",
    "arr10.shape\n",
    "arr10.ndim\n",
    "\n",
    "arr10.size       #number of items \n",
    "arr10.itemsize   # int = 4byte\n",
    "arr10.dtype      #type like int float etc\n",
    "arr10.astype('float')\n",
    "\n",
    "# list_a = range(100)\n",
    "# arr11 = np.arange(100)\n",
    "# import sys\n",
    "# print(sys.getsizeof(12)*len(list_a))\n",
    "# print(arr11.itemsize * arr11.size)\n",
    "\n",
    "# import time\n",
    "# x = range(10000000)\n",
    "# y = range(10000000,20000000)\n",
    "# start_time = time.time()\n",
    "# z = [(x,y) for x,y in zip(x,y)]\n",
    "# print((time.time() - start_time)) \n",
    "\n",
    "# a = np.arange(10000000)\n",
    "# b = np.arange(10000000,20000000)\n",
    "# start_time = time.time()\n",
    "# c = a+b\n",
    "# print((time.time() - start_time)) \n",
    "\n",
    "arr12 = np.arange(24).reshape(6,4)\n",
    "arr12\n",
    "\n",
    "arr12\n",
    "arr12[:,2]         # to print columns of a matrix\n",
    "arr12[:,1:3]        #to print 2nd and 3rd column of every row\n",
    "# arr12[3:4,1:3]      #to print 2nd and 3rd column of 4th row\n",
    "arr12[4:6,2:4]      #to print 3rd and 4th column of 5th and 6th row\n",
    "\n",
    "# for i in arr12:\n",
    "#     print(i)\n",
    "\n",
    "# for i in np.nditer(arr12):      #to print different different element of a matrix\n",
    "    # print(i)\n",
    "\n",
    "\n"
   ]
  },
  {
   "cell_type": "code",
   "execution_count": null,
   "id": "3c640efc",
   "metadata": {},
   "outputs": [
    {
     "data": {
      "text/plain": [
       "array([[1.00000000e+00, 2.71828183e+00, 7.38905610e+00, 2.00855369e+01],\n",
       "       [5.45981500e+01, 1.48413159e+02, 4.03428793e+02, 1.09663316e+03],\n",
       "       [2.98095799e+03, 8.10308393e+03, 2.20264658e+04, 5.98741417e+04]])"
      ]
     },
     "execution_count": 86,
     "metadata": {},
     "output_type": "execute_result"
    }
   ],
   "source": [
    "import numpy as np\n",
    "arr1 =np.array([1,2,3,4,5,6])\n",
    "arr2 = np.array([4,5,6,7,8,9])\n",
    "arr2-arr1                        #subtract two array\n",
    "arr1*arr2                       #vector multiplication\n",
    "arr1*10                         #scalar multiplication\n",
    "arr1>3             #true where the lement is greater than 3 and otherwise false\n",
    "\n",
    "\n",
    "arr3 = np.arange(6).reshape(2,3)\n",
    "arr4 = np.arange(12).reshape(3,4)\n",
    "arr3.dot(arr4)                          #matrix multiplication\n",
    "arr3.max()                             #give maximum of the matrix\n",
    "arr3.min()                           #give min of the matrix\n",
    "arr4.max(axis=0)                    #give the maximum of every column\n",
    "arr4.min(axis=1)                    #give the minimum of every row\n",
    "arr4.sum()\n",
    "arr4.sum(axis=1)                   #sum of all the columns\n",
    "arr4.sum(axis=0)                    #sum of all the rows\n",
    "arr4.mean()                          #calculate the mean of the complete data\n",
    "arr4.std()                          #calculate the standard deviation of the complete data\n",
    "np.sin(arr4)                        #give sin of all the values of the matrix\n",
    "np.transpose(arr4)                  #give transpose of the matrix\n",
    "np.trace(arr4)                    #give trace of the matrix\n",
    "np.median(arr4)                  #givemedian of the elements of the matrix\n",
    "np.exp(arr4)                    #give exponent of all the elements of the matrix\n"
   ]
  },
  {
   "cell_type": "code",
   "execution_count": 117,
   "id": "eab905dd",
   "metadata": {},
   "outputs": [
    {
     "data": {
      "text/plain": [
       "[array([[0],\n",
       "        [4],\n",
       "        [8]]),\n",
       " array([[1],\n",
       "        [5],\n",
       "        [9]]),\n",
       " array([[ 2],\n",
       "        [ 6],\n",
       "        [10]]),\n",
       " array([[ 3],\n",
       "        [ 7],\n",
       "        [11]])]"
      ]
     },
     "execution_count": 117,
     "metadata": {},
     "output_type": "execute_result"
    }
   ],
   "source": [
    "arr1 = np.arange(12).reshape(3,4)\n",
    "arr1\n",
    "arr1.ndim\n",
    "arr1.ravel()    #combine the matrix print all the elements in a single row\n",
    "arr2 = np.arange(12,24).reshape(3,4)\n",
    "np.hstack((arr1,arr2))                      #combine the two array like connect the all the rows of the matrix\n",
    "np.vstack((arr1,arr2))                      #combine the two array like connect the all the columns of the matrix\n",
    "np.vsplit(arr1,3)          #split the matrix horizontally but make sure spliting must be equal to the number of rows\n",
    "np.hsplit(arr1,4)          #split the matrix vertically but make sure spliting must be equal to the number of columns\n"
   ]
  },
  {
   "cell_type": "code",
   "execution_count": null,
   "id": "88ca04a3",
   "metadata": {},
   "outputs": [
    {
     "data": {
      "text/plain": [
       "array([[ 0,  1,  2,  3],\n",
       "       [ 8,  9, 10, 11],\n",
       "       [16, 17, 18, 19]])"
      ]
     },
     "execution_count": 122,
     "metadata": {},
     "output_type": "execute_result"
    }
   ],
   "source": [
    "arr1= np.arange(24).reshape(6,4)\n",
    "arr1[[0,2,4]]                              #direct access of any row or column of the matrix (called fancy indexing)\n"
   ]
  },
  {
   "cell_type": "code",
   "execution_count": 150,
   "id": "c6b6f6b8",
   "metadata": {},
   "outputs": [
    {
     "data": {
      "text/plain": [
       "array([94, 76, 83, 74, 73, 73, 92, 82, 96, 63], dtype=int32)"
      ]
     },
     "execution_count": 150,
     "metadata": {},
     "output_type": "execute_result"
    }
   ],
   "source": [
    "#index using boolean arrays\n",
    "arr1 = np.random.randint(low =10,high =100,size=20).reshape(5,4)\n",
    "arr1[(arr1)>50]         #only those number is in the output where this condition is true \n",
    "# arr1[((arr1)>50) & (arr1%2!=0)]        #two condition on same matrix\n",
    "# arr1[((arr1)>50) & (arr1%2!=0)] =0\n",
    "# arr1"
   ]
  },
  {
   "cell_type": "code",
   "execution_count": 156,
   "id": "0457f583",
   "metadata": {},
   "outputs": [],
   "source": [
    "import numpy as np\n",
    "arr1 = np.arange(20).reshape(4,5)\n",
    "# arr1[d]"
   ]
  },
  {
   "cell_type": "code",
   "execution_count": null,
   "id": "558b1b37",
   "metadata": {},
   "outputs": [
    {
     "data": {
      "text/plain": [
       "101"
      ]
     },
     "execution_count": 3,
     "metadata": {},
     "output_type": "execute_result"
    }
   ],
   "source": [
    "import numpy as np\n",
    "arr1 = np.linspace(-40,40,101)\n",
    "arr1.size\n",
    "arr2 = np.sin(arr1)\n",
    "arr2.size\n",
    "import matplotlib.pyplot as plt\n",
    "%matplotlib inline\n",
    "plt.plot(arr1,arr2)"
   ]
  },
  {
   "cell_type": "code",
   "execution_count": 12,
   "id": "3077ab66",
   "metadata": {},
   "outputs": [
    {
     "data": {
      "text/plain": [
       "array([[ 0,  1,  2,  3],\n",
       "       [ 5,  6,  7,  8],\n",
       "       [10, 11, 12, 13],\n",
       "       [15, 16, 17, 18],\n",
       "       [20, 21, 22, 23]])"
      ]
     },
     "execution_count": 12,
     "metadata": {},
     "output_type": "execute_result"
    }
   ],
   "source": [
    "import numpy as np\n",
    "arr1 = np.arange(9).reshape(3,3)\n",
    "arr2 = np.arange(10,19).reshape(3,3)\n",
    "arr1+arr2             #do the addition of two matrices\n",
    "arr1-arr2             #do the subtraction of two matrices\n",
    "arr1*arr2             #do the multiplication of two matrices\n",
    "arr1/arr2             #do the division of two matrices\n",
    "\n",
    "\n",
    "arr3 = np.arange(9).reshape(3,3)\n",
    "arr4 = np.arange(10,13).reshape(1,3)\n",
    "arr4+arr3                   #broadcasting of the matrix(adding the row of arr4 to every row of arr3)\n",
    "\n",
    "arr5= np.arange(20).reshape(5,4)\n",
    "arr6 = np.arange(5).reshape(5,1)\n",
    "arr5+arr6 "
   ]
  },
  {
   "cell_type": "code",
   "execution_count": null,
   "id": "626f44ab",
   "metadata": {},
   "outputs": [],
   "source": []
  },
  {
   "cell_type": "code",
   "execution_count": null,
   "id": "bb755d87",
   "metadata": {},
   "outputs": [],
   "source": []
  },
  {
   "cell_type": "code",
   "execution_count": null,
   "id": "8d40f6fb",
   "metadata": {},
   "outputs": [],
   "source": []
  },
  {
   "cell_type": "code",
   "execution_count": null,
   "id": "30645e1e",
   "metadata": {},
   "outputs": [],
   "source": []
  },
  {
   "cell_type": "code",
   "execution_count": 92,
   "id": "2f18155e",
   "metadata": {},
   "outputs": [
    {
     "data": {
      "text/plain": [
       "np.float64(33.991)"
      ]
     },
     "execution_count": 92,
     "metadata": {},
     "output_type": "execute_result"
    }
   ],
   "source": [
    "#Some important functions\n",
    "import numpy as np\n",
    "np.random.random()          #generate a random number between 0 and 1\n",
    "# np.random.seed(1)\n",
    "np.random.random()\n",
    "np.random.uniform(3,12)      #if seed is not apply then give the random value between 3 and 11 , values in float\n",
    "np.random.uniform(1,100,10)  #give array of 10 random values , values in float\n",
    "np.random.uniform(10,50,20).reshape(4,5)\n",
    "\n",
    "\n",
    "np.random.randint(1,20,20).reshape(4,5)    #upper function but this time the output will only be integer\n",
    "\n",
    "x = np.random.randint(1,10,5)\n",
    "np.max(x)       #gives the maximum element of the array\n",
    "np.min(x)       #gives the minimum element of the array\n",
    "np.argmax(x)    #gives the index of the  maximum number of the array\n",
    "x[np.argmax(x)]   #cross verify by indexing\n",
    "np.argmin(x)    #gives the index of the  minimum number of the array\n",
    "\n",
    "\n",
    "arrx = np.random.randint(1,10,5)\n",
    "#syntax  = (arrx = np.where(condition,true pe value,false pe value))   (where -> don't touch original array)\n",
    "# arry = np.where(arrx%2 != 0,-1,arrx) #to replace all the odd number of the array with -1.(create a different array)\n",
    "#arry\n",
    "arrx[(arrx%2!=0)]=-1                 #alternate method to do the same but this is inplace(don't create a diff. array)\n",
    "arrx\n",
    "\n",
    "\n",
    "\n",
    "arr_k = np.random.randint(1,50,10)\n",
    "arr_y = np.sort(arr_k)                #give different array (not in-place sorting)\n",
    "np.percentile(arr_y,30)               #30% of my array is coverd upto .\n",
    "np.percentile(arr_y,60)               #60% of my array covered upto . (means tum itna aage ho -> think like that)\n",
    "np.percentile(arr_y , 99.9)\n"
   ]
  },
  {
   "cell_type": "code",
   "execution_count": null,
   "id": "bd5efa83",
   "metadata": {},
   "outputs": [
    {
     "data": {
      "text/plain": [
       "array([17, 12,  7,  2])"
      ]
     },
     "execution_count": 193,
     "metadata": {},
     "output_type": "execute_result"
    }
   ],
   "source": [
    "arr1 = np.arange(20).reshape(4,5)\n",
    "arr2 = np.flip(arr1[:,2])         # single column flipping\n",
    "arr2"
   ]
  }
 ],
 "metadata": {
  "kernelspec": {
   "display_name": "dsenv",
   "language": "python",
   "name": "dsenv"
  },
  "language_info": {
   "codemirror_mode": {
    "name": "ipython",
    "version": 3
   },
   "file_extension": ".py",
   "mimetype": "text/x-python",
   "name": "python",
   "nbconvert_exporter": "python",
   "pygments_lexer": "ipython3",
   "version": "3.11.13"
  }
 },
 "nbformat": 4,
 "nbformat_minor": 5
}
