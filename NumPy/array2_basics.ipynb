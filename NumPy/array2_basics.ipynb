{
 "cells": [
  {
   "cell_type": "code",
   "execution_count": 2,
   "id": "140c0f09",
   "metadata": {},
   "outputs": [
    {
     "data": {
      "text/plain": [
       "array([-40. , -39.2, -38.4, -37.6, -36.8, -36. , -35.2, -34.4, -33.6,\n",
       "       -32.8, -32. , -31.2, -30.4, -29.6, -28.8, -28. , -27.2, -26.4,\n",
       "       -25.6, -24.8, -24. , -23.2, -22.4, -21.6, -20.8, -20. , -19.2,\n",
       "       -18.4, -17.6, -16.8, -16. , -15.2, -14.4, -13.6, -12.8, -12. ,\n",
       "       -11.2, -10.4,  -9.6,  -8.8,  -8. ,  -7.2,  -6.4,  -5.6,  -4.8,\n",
       "        -4. ,  -3.2,  -2.4,  -1.6,  -0.8,   0. ,   0.8,   1.6,   2.4,\n",
       "         3.2,   4. ,   4.8,   5.6,   6.4,   7.2,   8. ,   8.8,   9.6,\n",
       "        10.4,  11.2,  12. ,  12.8,  13.6,  14.4,  15.2,  16. ,  16.8,\n",
       "        17.6,  18.4,  19.2,  20. ,  20.8,  21.6,  22.4,  23.2,  24. ,\n",
       "        24.8,  25.6,  26.4,  27.2,  28. ,  28.8,  29.6,  30.4,  31.2,\n",
       "        32. ,  32.8,  33.6,  34.4,  35.2,  36. ,  36.8,  37.6,  38.4,\n",
       "        39.2,  40. ])"
      ]
     },
     "execution_count": 2,
     "metadata": {},
     "output_type": "execute_result"
    }
   ],
   "source": [
    "import numpy as np\n",
    "arr1 = np.linspace(-40,40,101)\n",
    "arr1\n",
    "# import matplotlib.pyplot as plt\n",
    "# %matplotlib inline"
   ]
  }
 ],
 "metadata": {
  "kernelspec": {
   "display_name": "dsenv",
   "language": "python",
   "name": "dsenv"
  },
  "language_info": {
   "codemirror_mode": {
    "name": "ipython",
    "version": 3
   },
   "file_extension": ".py",
   "mimetype": "text/x-python",
   "name": "python",
   "nbconvert_exporter": "python",
   "pygments_lexer": "ipython3",
   "version": "3.11.13"
  }
 },
 "nbformat": 4,
 "nbformat_minor": 5
}
